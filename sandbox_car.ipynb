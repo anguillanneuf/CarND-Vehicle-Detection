{
 "cells": [
  {
   "cell_type": "code",
   "execution_count": 12,
   "metadata": {
    "collapsed": true
   },
   "outputs": [],
   "source": [
    "from collections import deque\n",
    "import numpy as np"
   ]
  },
  {
   "cell_type": "code",
   "execution_count": 13,
   "metadata": {
    "collapsed": false
   },
   "outputs": [],
   "source": [
    "from collections import deque\n",
    "import numpy as np\n",
    "class Car():\n",
    "    def __init__(self):\n",
    "        self.detected = False\n",
    "        self.n_cars = deque(maxlen=10)\n",
    "        self.bboxes = deque(maxlen=10)\n",
    "        self.cars = [deque(maxlen=10) for i in np.arange(10)]\n",
    "    \n",
    "    def previous_centers(self):\n",
    "        if len(self.bboxes[-1])>0:\n",
    "            centers = find_centers(self.bboxes[-1])\n",
    "        self.previous_centers = centers\n",
    "        return centers\n",
    "\n",
    "\n",
    "#     def calc_centers(bboxes):\n",
    "#         centers=[]\n",
    "#         for b in bboxes:\n",
    "#             cx, cy = int((b[0]+b[2])/2), int((b[1]+b[3])/2)\n",
    "#             centers.append((cx,cy))\n",
    "#         return centers\n",
    "\n",
    "    def calc_centers(bboxes):\n",
    "        centers=[]\n",
    "        for b in bboxes:\n",
    "            cx, cy = int((b[0][0]+b[1][0])/2), int((b[0][1]+b[1][1])/2)\n",
    "            centers.append((cx,cy))\n",
    "        return centers\n",
    "\n",
    "    def first_order_smooth(self, new_bb):\n",
    "\n",
    "        if len(new_bb) == 0:\n",
    "            self.detected = False\n",
    "            self.n_cars = 0\n",
    "            \n",
    "        else: \n",
    "            new_centers = calc_centers(new_bb)\n",
    "            cars = self.cars\n",
    "            old_centers = [(i, calc_centers(d[-1])) for i,d in enumerate(cars) if len(d)>0]\n",
    "            distances = []\n",
    "            n_old = len(old_centers)\n",
    "            n_new = len(new_centers)\n",
    "            threshold = 20\n",
    "            old_cars = self.cars\n",
    "            \n",
    "            if n_new <= n_old: \n",
    "                cursor = 0\n",
    "                for id_nc, nc in enumerate(new_centers):\n",
    "                    temps = []\n",
    "\n",
    "                    if len(old_centers) >0: \n",
    "                        for id_oc, oc in enumerate(old_centers):\n",
    "                            temp = np.sqrt(abs(oc[0]-nc[0])**2+abs(oc[1]-nc[1])**2)\n",
    "                            temps.append(temp)\n",
    "\n",
    "\n",
    "                        if min(temps) <= threshold: \n",
    "\n",
    "                            locate = temps.index(min(temps))\n",
    "\n",
    "                            car_oc = old_centers[locate]\n",
    "\n",
    "                            # first order smoothing\n",
    "                            new_bb_refined = ( np.array(new_bb[id_nc])*0.6+\n",
    "                                               np.mean(np.array(cars[locate+cursor]), axis=0)*0.4)\n",
    "                            new_bb[id_nc] = tuple(map(tuple,new_bb_refined.astype(np.uint16)))\n",
    "                            old_centers.pop(old_centers.index(old_centers[locate]))\n",
    "                            cars[locate+cursor].append(new_bb[id_nc])\n",
    "                            cursor += 1\n",
    "\n",
    "                        else: \n",
    "                            cars.append([new_bb[id_nc]])\n",
    "\n",
    "                    else: \n",
    "                        cars.append([new_bb[id_nc]])\n",
    "\n",
    "                cars = [v for i,v in enumerate(cars) if v[-1] in new_bb]\n",
    "                                                 \n",
    "            else: \n",
    "                \n",
    "                    while(len(old_centers)>0):\n",
    "                        temps = []\n",
    "                        for id_oc, oc in enumerate(old_centers):\n",
    "\n",
    "\n",
    "                            if len(new_centers) >0: \n",
    "                                for id_nc, nc in enumerate(new_centers):\n",
    "                                    temp = np.sqrt(abs(oc[0]-nc[0])**2+abs(oc[1]-nc[1])**2)\n",
    "                                    temps.append(list(zip([temp], [oc],[[id_oc, id_nc]])))\n",
    "\n",
    "\n",
    "\n",
    "                        if min([x[0][0] for x in temps]) <= threshold: \n",
    "\n",
    "                            locate = [y[0] for y in temps if y[0][0]==min([x[0][0] for x in temps])]\n",
    "\n",
    "                            pop_old_loc = old_centers.index(old_centers[locate[0][2][0]])\n",
    "\n",
    "\n",
    "                            new_bb_loc = new_centers_copy.index(new_centers[id_nc])\n",
    "                            cars_loc = old_centers_copy.index(old_centers[id_oc])\n",
    "\n",
    "                            new_bb_refined = np.array(new_bb[new_bb_loc])*0.6+np.mean(np.array(cars[cars_loc]), axis=0)*0.4\n",
    "                            new_bb[id_nc] = tuple(map(tuple,new_bb_refined.astype(np.uint16)))\n",
    "\n",
    "\n",
    "                            cars[cars_loc].append(new_bb[id_nc])\n",
    "\n",
    "                            old_centers.pop(pop_old_loc)\n",
    "                            new_centers.pop(locate[0][2][1])\n",
    "                        else: \n",
    "                            break\n",
    "\n",
    "                    for i in new_bb:\n",
    "                        if i not in [c[-1] for c in cars]:\n",
    "                            cars.append([i])\n",
    "\n",
    "                    cars = [v for i,v in enumerate(cars) if v[-1] in new_bb]\n",
    "    \n",
    "            self.cars = cars\n",
    "            self.bboxes.append([v[-1] for v in self.cars])\n",
    "            self.detected = True\n",
    "            self.n_cars = len(cars)\n",
    "        \n",
    "        return new_bb"
   ]
  },
  {
   "cell_type": "code",
   "execution_count": 14,
   "metadata": {
    "collapsed": false
   },
   "outputs": [
    {
     "name": "stdout",
     "output_type": "stream",
     "text": [
      "[(228, 444), (906, 461)]\n"
     ]
    }
   ],
   "source": [
    "def calc_centers(bboxes):\n",
    "    centers=[]\n",
    "    for b in bboxes:\n",
    "        cx, cy = int((b[0][0]+b[1][0])/2), int((b[0][1]+b[1][1])/2)\n",
    "        centers.append((cx,cy))\n",
    "    return centers\n",
    "new_bb = [((9,359),(448,530)), ((799,402),(1014,520))]\n",
    "new_centers = calc_centers(new_bb)\n",
    "print(new_centers)"
   ]
  },
  {
   "cell_type": "code",
   "execution_count": 15,
   "metadata": {
    "collapsed": false
   },
   "outputs": [
    {
     "name": "stdout",
     "output_type": "stream",
     "text": [
      "[(0, [(150, 150), (154, 150)]), (1, [(902, 461), (904, 461), (906, 461)])]\n",
      "[(154, 150), (906, 461)]\n"
     ]
    }
   ],
   "source": [
    "cars = [[((100,100),(200,200)),((109,100),(200,200))],\n",
    "        [((790,402),(1014,520)),((795,402),(1014,520)),((798,402),(1014,520))]]\n",
    "old_centers_history = [(i, calc_centers(d)) for i,d in enumerate(cars) if len(d)>0]\n",
    "old_centers = [x[1][-1] for x in old_centers_history]\n",
    "print(old_centers_history)\n",
    "print(old_centers)"
   ]
  },
  {
   "cell_type": "code",
   "execution_count": 16,
   "metadata": {
    "collapsed": false
   },
   "outputs": [
    {
     "name": "stdout",
     "output_type": "stream",
     "text": [
      "2\n",
      "2\n"
     ]
    }
   ],
   "source": [
    "distances = []\n",
    "n_old = len(old_centers)\n",
    "n_new = len(new_centers)\n",
    "threshold = 20\n",
    "print(n_old)\n",
    "print(n_new)"
   ]
  },
  {
   "cell_type": "code",
   "execution_count": 17,
   "metadata": {
    "collapsed": false
   },
   "outputs": [
    {
     "name": "stdout",
     "output_type": "stream",
     "text": [
      "[[((100, 100), (200, 200)), ((109, 100), (200, 200))], [((790, 402), (1014, 520)), ((795, 402), (1014, 520)), ((798, 402), (1014, 520))]]\n",
      "[((9, 359), (448, 530)), ((799, 402), (1014, 520))]\n",
      "[[((790, 402), (1014, 520)), ((795, 402), (1014, 520)), ((798, 402), (1014, 520)), ((797, 402), (1014, 520))], [((9, 359), (448, 530))]]\n"
     ]
    }
   ],
   "source": [
    "print(cars)\n",
    "cars_copy = cars\n",
    "print(new_bb)\n",
    "\n",
    "# done \n",
    "if n_new <= n_old: \n",
    "    cursor = 0\n",
    "    for id_nc, nc in enumerate(new_centers):\n",
    "        temps = []\n",
    "        \n",
    "        if len(old_centers) >0: \n",
    "            for id_oc, oc in enumerate(old_centers):\n",
    "                temp = np.sqrt(abs(oc[0]-nc[0])**2+abs(oc[1]-nc[1])**2)\n",
    "                temps.append(temp)\n",
    "            \n",
    "            if min(temps) <= threshold: \n",
    "                \n",
    "                locate = temps.index(min(temps))\n",
    "                \n",
    "                car_oc = old_centers[locate]\n",
    "                \n",
    "                # first order smoothing\n",
    "                new_bb_refined = np.array(new_bb[id_nc])*0.6+np.mean(np.array(cars[locate+cursor]), axis=0)*0.4\n",
    "                new_bb[id_nc] = tuple(map(tuple,new_bb_refined.astype(np.uint16)))\n",
    "                old_centers.pop(old_centers.index(car_oc))\n",
    "                cars[locate+cursor].append(new_bb[id_nc])\n",
    "                cursor += 1\n",
    "                \n",
    "            else: \n",
    "                cars.append([new_bb[id_nc]])\n",
    "                \n",
    "        else: \n",
    "            cars.append([new_bb[id_nc]])\n",
    "\n",
    "    cars = [v for i,v in enumerate(cars) if v[-1] in new_bb]\n",
    "#     self.cars = cars\n",
    "#     self.bboxes.append([v[-1] for v in self.cars])\n",
    "\n",
    "    \n",
    "\n",
    "print(cars)"
   ]
  },
  {
   "cell_type": "code",
   "execution_count": 18,
   "metadata": {
    "collapsed": false
   },
   "outputs": [
    {
     "name": "stdout",
     "output_type": "stream",
     "text": [
      "[((9, 359), (448, 530)), ((99, 58), (55, 99)), ((799, 402), (1014, 520))]\n",
      "[(228, 444), (77, 78), (906, 461)]\n",
      "[(0, [(150, 150), (154, 150)]), (1, [(902, 461), (904, 461), (906, 461)])]\n",
      "[(154, 150), (906, 461)]\n",
      "2\n",
      "3\n"
     ]
    }
   ],
   "source": [
    "new_bb = [((9,359),(448,530)), ((99,58),(55,99)), ((799,402),(1014,520))]\n",
    "new_centers = calc_centers(new_bb)\n",
    "new_centers_copy = new_centers[:]\n",
    "print(new_bb)\n",
    "print(new_centers)\n",
    "\n",
    "cars = [[((100,100),(200,200)),((109,100),(200,200))],\n",
    "        [((790,402),(1014,520)),((795,402),(1014,520)),((798,402),(1014,520))]]\n",
    "#cars = [deque(maxlen=10) for i in np.arange(10)]\n",
    "old_centers_history = [(i, calc_centers(d)) for i,d in enumerate(cars) if len(d)>0]\n",
    "old_centers = [x[1][-1] for x in old_centers_history]\n",
    "old_centers_copy = old_centers[:]\n",
    "print(old_centers_history)\n",
    "print(old_centers)\n",
    "\n",
    "n_old = len(old_centers)\n",
    "n_new = len(new_centers)\n",
    "threshold = 20\n",
    "print(n_old)\n",
    "print(n_new)"
   ]
  },
  {
   "cell_type": "code",
   "execution_count": 19,
   "metadata": {
    "collapsed": false
   },
   "outputs": [
    {
     "name": "stdout",
     "output_type": "stream",
     "text": [
      "[[((790, 402), (1014, 520)), ((795, 402), (1014, 520)), ((798, 402), (1014, 520)), ((797, 402), (1014, 520))], [((9, 359), (448, 530))], [((99, 58), (55, 99))]]\n"
     ]
    }
   ],
   "source": [
    "if n_new > n_old: \n",
    "\n",
    "    while(len(old_centers)>0):\n",
    "        temps = []\n",
    "        for id_oc, oc in enumerate(old_centers):\n",
    "\n",
    "\n",
    "            if len(new_centers) >0: \n",
    "                for id_nc, nc in enumerate(new_centers):\n",
    "                    temp = np.sqrt(abs(oc[0]-nc[0])**2+abs(oc[1]-nc[1])**2)\n",
    "                    temps.append(list(zip([temp], [oc],[[id_oc, id_nc]])))\n",
    "\n",
    "    \n",
    "\n",
    "        if min([x[0][0] for x in temps]) <= threshold: \n",
    "\n",
    "            locate = [y[0] for y in temps if y[0][0]==min([x[0][0] for x in temps])]\n",
    "\n",
    "            pop_old_loc = old_centers.index(old_centers[locate[0][2][0]])\n",
    "\n",
    "\n",
    "            new_bb_loc = new_centers_copy.index(new_centers[id_nc])\n",
    "            cars_loc = old_centers_copy.index(old_centers[id_oc])\n",
    "\n",
    "            new_bb_refined = np.array(new_bb[new_bb_loc])*0.6+np.mean(np.array(cars[cars_loc]), axis=0)*0.4\n",
    "            new_bb[id_nc] = tuple(map(tuple,new_bb_refined.astype(np.uint16)))\n",
    "\n",
    "\n",
    "            cars[cars_loc].append(new_bb[id_nc])\n",
    "\n",
    "            old_centers.pop(pop_old_loc)\n",
    "            new_centers.pop(locate[0][2][1])\n",
    "        else: \n",
    "            break\n",
    "        \n",
    "    for i in new_bb:\n",
    "        if i not in [c[-1] for c in cars]:\n",
    "            cars.append([i])\n",
    "    \n",
    "    cars = [v for i,v in enumerate(cars) if v[-1] in new_bb]\n",
    "    \n",
    "    print(cars)"
   ]
  },
  {
   "cell_type": "code",
   "execution_count": 20,
   "metadata": {
    "collapsed": false
   },
   "outputs": [
    {
     "data": {
      "text/plain": [
       "4"
      ]
     },
     "execution_count": 20,
     "metadata": {},
     "output_type": "execute_result"
    }
   ],
   "source": [
    "len(cars[0])"
   ]
  },
  {
   "cell_type": "code",
   "execution_count": 21,
   "metadata": {
    "collapsed": false
   },
   "outputs": [
    {
     "data": {
      "text/plain": [
       "[((790, 402), (1014, 520)), ((9, 359), (448, 530)), ((99, 58), (55, 99))]"
      ]
     },
     "execution_count": 21,
     "metadata": {},
     "output_type": "execute_result"
    }
   ],
   "source": [
    "[c[0] for c in cars]"
   ]
  },
  {
   "cell_type": "code",
   "execution_count": 22,
   "metadata": {
    "collapsed": false
   },
   "outputs": [
    {
     "data": {
      "text/plain": [
       "[(154, 150)]"
      ]
     },
     "execution_count": 22,
     "metadata": {},
     "output_type": "execute_result"
    }
   ],
   "source": [
    "old_centers"
   ]
  },
  {
   "cell_type": "code",
   "execution_count": null,
   "metadata": {
    "collapsed": true
   },
   "outputs": [],
   "source": []
  }
 ],
 "metadata": {
  "kernelspec": {
   "display_name": "Python 3",
   "language": "python",
   "name": "python3"
  },
  "language_info": {
   "codemirror_mode": {
    "name": "ipython",
    "version": 3
   },
   "file_extension": ".py",
   "mimetype": "text/x-python",
   "name": "python",
   "nbconvert_exporter": "python",
   "pygments_lexer": "ipython3",
   "version": "3.5.2"
  }
 },
 "nbformat": 4,
 "nbformat_minor": 2
}
